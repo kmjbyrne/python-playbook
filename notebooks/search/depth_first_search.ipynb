{
 "cells": [
  {
   "cell_type": "markdown",
   "metadata": {},
   "source": [
    "# Depth First Search\n",
    "\n",
    "Depth-first search (DFS) is an algorithm for traversing or searching tree or graph data structures. One starts at the root (selecting some arbitrary node as the root in the case of a graph) and explores as far as possible along each branch before backtracking.\n",
    "\n",
    "The time and space analysis of DFS differs according to its application area. In theoretical computer science, DFS is typically used to traverse an entire graph, and takes time Θ(|V| + |E|)"
   ]
  },
  {
   "cell_type": "code",
   "execution_count": null,
   "metadata": {
    "collapsed": true
   },
   "outputs": [],
   "source": [
    "sample_graph = {\n",
    "    'A': set(['A', 'B']),\n",
    "    'B': set(['A', 'C', 'D']),\n",
    "    'C': set(['B']),\n",
    "    'D': set(['B', 'E']),\n",
    "    'E': set(['D', 'F', 'I']),\n",
    "    'F': set(['E', 'G']),\n",
    "    'G': set(['F', 'I']),\n",
    "    'I': set(['G', 'E'])\n",
    "}\n",
    "\n",
    "def iterative_dfs(graph, start_node):\n",
    "    \"\"\"\n",
    "    Iterative implementation of the depth first search algorithm\n",
    "    \n",
    "    :param dict graph: A dictionary representing a connected graph\n",
    "    :param str start_node: The starting node to search from\n",
    "    :returns: A set of visited nodes\n",
    "    :rtype: set\n",
    "    \"\"\"\n",
    "    visited, stack = set(), [start_node]\n",
    "    print ('Init algorithm variables visited and stack: {} {}'.format(visited, stack))\n",
    "    while stack:\n",
    "        # Pop the next element off the stack\n",
    "        vtx = stack.pop()\n",
    "        print ('Visiting next vertex: {}'.format(vtx))\n",
    "        if vtx not in visited:\n",
    "            # If vertex is not in the visited set, then traverse from there\n",
    "            visited.add(vtx)\n",
    "            # Basically appends all the elements of the graph less those vertices visited\n",
    "            stack.extend(graph[vtx] - visited)\n",
    "    return visited\n",
    "\n",
    "# Recursive implementation for a depth first search\n",
    "def dfsr(graph, start_node, visited=None):\n",
    "    \"\"\"\n",
    "    Recursive implementation of the depth first search algorithm\n",
    "    \n",
    "    :param dict graph: A dictionary representing a connected graph\n",
    "    :param str start_node: The starting node to search from\n",
    "    :returns: A set of visited nodes\n",
    "    :rtype: set\n",
    "    \"\"\"\n",
    "    if visited is None:\n",
    "        visited = set()\n",
    "    visited.add(start_node)\n",
    "    for next_node in graph[start_node] - visited:\n",
    "        dfsr(graph, next_node, visited)\n",
    "    return visited"
   ]
  }
 ],
 "metadata": {
  "kernelspec": {
   "display_name": "Python 3",
   "language": "python",
   "name": "python3"
  },
  "language_info": {
   "codemirror_mode": {
    "name": "ipython",
    "version": 3
   },
   "file_extension": ".py",
   "mimetype": "text/x-python",
   "name": "python",
   "nbconvert_exporter": "python",
   "pygments_lexer": "ipython3",
   "version": "3.4.4"
  }
 },
 "nbformat": 4,
 "nbformat_minor": 0
}

