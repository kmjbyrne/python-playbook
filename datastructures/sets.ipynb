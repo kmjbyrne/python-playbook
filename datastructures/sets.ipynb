{
 "cells": [
  {
   "cell_type": "markdown",
   "metadata": {},
   "source": [
    "# Sets\n",
    "\n",
    "## Definition\n",
    "\n",
    "A set is an abstract data type that is a well-defined, unordered collection of elements. Sets contain only distinct elements. Sets are one of the most fundamental concept in mathematics since they were developed near the end of the 19th century.\n",
    "\n",
    "Unlike various other data structures, elements are more often tested for membership within a set rather than the retrieval of a specific element for said set.\n"
   ]
  },
  {
   "cell_type": "code",
   "execution_count": 8,
   "metadata": {
    "collapsed": false
   },
   "outputs": [
    {
     "name": "stdout",
     "output_type": "stream",
     "text": [
      "Set A:  {1, 2, 3, 4, 5, 6, 7}\n",
      "Set A:  {1, 2, 3, 4, 5, 6, 7}\n"
     ]
    }
   ],
   "source": [
    "# To create a set in Python, we use curly parenthesis, quite similar to creating a dictionary \n",
    "# Let's create a set of numbers ranging from 1 to 7\n",
    "A = {1, 2, 3, 4, 5, 6, 7}\n",
    "print ('Set A: ', A)\n",
    "\n",
    "# Since a set only holds distinct values, what would happen if we attempted to create the following\n",
    "B = {1, 2, 3, 3, 3, 4, 5, 5, 6, 6, 7}\n",
    "print ('Set B: ', B)\n",
    "\n",
    "# Assert that A is in fact equal to B since we discard the additional 3, 5 and 6 values\n",
    "assert A == B"
   ]
  },
  {
   "cell_type": "markdown",
   "metadata": {},
   "source": [
    "A small gotcha with Python? How would you create an empty set? \n",
    "\n",
    "Like so,\n",
    "\n",
    "A = {} ?\n",
    "\n",
    "This would create an empty dict object in Python. To achieve this we need to call the set constructor"
   ]
  },
  {
   "cell_type": "code",
   "execution_count": null,
   "metadata": {
    "collapsed": true
   },
   "outputs": [],
   "source": [
    "# An empty set\n",
    "A = set()"
   ]
  },
  {
   "cell_type": "markdown",
   "metadata": {},
   "source": [
    "## Operations\n",
    "\n",
    "### Union\n",
    "\n",
    "A union of two sets is the combined set of all elements from a given set A and B. The *union* operation in Python is performed by either using the | operator or the instance method _union()_\n",
    "\n",
    "Let's consider out set A from above and create a new set C which contains additional values to demonstrate set union"
   ]
  },
  {
   "cell_type": "code",
   "execution_count": 7,
   "metadata": {
    "collapsed": false
   },
   "outputs": [
    {
     "name": "stdout",
     "output_type": "stream",
     "text": [
      "{1, 2, 3, 4, 5, 6, 7, 11, 12, 13}\n"
     ]
    }
   ],
   "source": [
    "C = {11, 12, 13}\n",
    "\n",
    "# Now, let's union set A and set C\n",
    "union_of_two_sets = A.union(C)\n",
    "\n",
    "# Be sure to make sure set A and C are correctly asserted\n",
    "assert union_of_two_sets == {1, 2, 3, 4, 5, 6, 7, 11, 12, 13}\n",
    "print (union_of_two_sets)"
   ]
  },
  {
   "cell_type": "markdown",
   "metadata": {},
   "source": [
    "### Intersection\n",
    "\n",
    "Intersection of two sets is the elements of a given set A and B that are _only_ available in both sets. For example, given set A and set B, both list of names.\n",
    "\n",
    "Intersection is performed by the ampersand operator - & or alternatively the instance method _intersection()_\n"
   ]
  },
  {
   "cell_type": "code",
   "execution_count": 16,
   "metadata": {
    "collapsed": false
   },
   "outputs": [
    {
     "name": "stdout",
     "output_type": "stream",
     "text": [
      "A - {'joseph', 'mary', 'john'} \r\n",
      "B - {'derek', 'sandra', 'john'} \r\n",
      "Intersection of A and B - {'john'}\n"
     ]
    }
   ],
   "source": [
    "# Two sample sets of names\n",
    "A = {'john', 'mary', 'joseph'}\n",
    "B = {'john', 'derek', 'sandra'}\n",
    "\n",
    "C = A.intersection(B) # Or A | B\n",
    "\n",
    "print ('A - {} \\r\\nB - {} \\r\\nIntersection of A and B - {}'.format(A, B, C))\n",
    "\n",
    "assert C == {'john'}"
   ]
  },
  {
   "cell_type": "markdown",
   "metadata": {},
   "source": [
    "### Difference\n",
    "\n",
    "Difference is the difference between sets A and B. This is the inverse of intersection, such that we will get the values only in one set and not in another.\n",
    "\n",
    "Difference is performed using the hyphen operator -\n",
    "\n",
    "And of course using the instance method _difference()_"
   ]
  },
  {
   "cell_type": "code",
   "execution_count": 18,
   "metadata": {
    "collapsed": false
   },
   "outputs": [
    {
     "name": "stdout",
     "output_type": "stream",
     "text": [
      "A - {'red', 'blue', 'green'} \r\n",
      "B - {'magenta', 'cyan', 'blue'} \r\n",
      "Difference of A and B - {'red', 'green'}\n"
     ]
    }
   ],
   "source": [
    "# Two sample sets of colours\n",
    "A = {'blue', 'red', 'green'}\n",
    "B = {'magenta', 'cyan', 'blue'}\n",
    "\n",
    "C = A.difference(B) # Or A - B\n",
    "\n",
    "print ('A - {} \\r\\nB - {} \\r\\nDifference of A and B - {}'.format(A, B, C))\n",
    "\n",
    "assert C == {'red', 'green'}"
   ]
  },
  {
   "cell_type": "markdown",
   "metadata": {},
   "source": [
    "### Symmetric Difference\n",
    "\n",
    "Symmetric Difference of two sets is the set of elements that exist in both a set A and a set B except elements that are common in both. \n",
    "\n",
    "Symmetric Difference is performed using the hat operator - ^.\n",
    "\n",
    "Or the instance method __symmetric_difference()__"
   ]
  },
  {
   "cell_type": "code",
   "execution_count": 23,
   "metadata": {
    "collapsed": false
   },
   "outputs": [
    {
     "name": "stdout",
     "output_type": "stream",
     "text": [
      "A - {'ford', 'land rover', 'opel'} \r\n",
      "B - {'nissan', 'toyota', 'opel', 'lotus'} \r\n",
      "Symmetric Distance of A and B - {'nissan', 'ford', 'land rover', 'toyota', 'lotus'}\n"
     ]
    }
   ],
   "source": [
    "# Two sample sets of car manufacturers\n",
    "A = {'ford', 'opel', 'land rover'}\n",
    "B = {'lotus', 'toyota', 'nissan', 'opel'}\n",
    "\n",
    "C = A.symmetric_difference(B) # Or A ^ B\n",
    "\n",
    "print ('A - {} \\r\\nB - {} \\r\\nSymmetric Distance of A and B - {}'.format(A, B, C))\n",
    "\n",
    "assert C == {'nissan', 'ford', 'land rover', 'toyota', 'lotus'}"
   ]
  },
  {
   "cell_type": "code",
   "execution_count": null,
   "metadata": {
    "collapsed": true
   },
   "outputs": [],
   "source": []
  }
 ],
 "metadata": {
  "kernelspec": {
   "display_name": "Python 3",
   "language": "python",
   "name": "python3"
  },
  "language_info": {
   "codemirror_mode": {
    "name": "ipython",
    "version": 3
   },
   "file_extension": ".py",
   "mimetype": "text/x-python",
   "name": "python",
   "nbconvert_exporter": "python",
   "pygments_lexer": "ipython3",
   "version": "3.4.4"
  }
 },
 "nbformat": 4,
 "nbformat_minor": 0
}
