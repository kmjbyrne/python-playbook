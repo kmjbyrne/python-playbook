{
 "cells": [
  {
   "cell_type": "markdown",
   "metadata": {},
   "source": [
    "# Functional Paradigm \n",
    "\n",
    "## Map \n",
    "\n",
    "Map is a built-in Python function that allows for mapping a particular algorithm or function to every item of \n",
    "any iterable and thus returns the applied results in the form of a list collection."
   ]
  },
  {
   "cell_type": "code",
   "execution_count": 20,
   "metadata": {
    "collapsed": false
   },
   "outputs": [
    {
     "name": "stdout",
     "output_type": "stream",
     "text": [
      "[3, 4, 5, 6, 7]\n"
     ]
    }
   ],
   "source": [
    "# Map an algorithm that adds two to every member of the input list\n",
    "func = lambda x: x + 2\n",
    "\n",
    "result = list(map(func, [1,2,3,4,5]))\n",
    "\n",
    "assert(result == [3,4,5,6,7])\n",
    "print([i for i in result]) "
   ]
  },
  {
   "cell_type": "markdown",
   "metadata": {},
   "source": [
    "## Filter\n",
    "\n",
    "The build-in filter method returns an iterator from elements of an iterable for which a conditional function returns true.\n",
    "\n",
    "In essence, supply a iterable, for all elements in that iterable that satisfy some condition return that those elements."
   ]
  },
  {
   "cell_type": "code",
   "execution_count": 15,
   "metadata": {
    "collapsed": false
   },
   "outputs": [
    {
     "name": "stdout",
     "output_type": "stream",
     "text": [
      "[3, 4, 5]\n",
      "[3, 4, 5]\n"
     ]
    }
   ],
   "source": [
    "# Return only elements greater than or equal to 3\n",
    "func = lambda x: x if x >= 3 else False\n",
    "\n",
    "result = list(filter(func, [1,2,3,4,5]))\n",
    "\n",
    "assert(result == [3,4,5])\n",
    "print([i for i in result]) "
   ]
  },
  {
   "cell_type": "markdown",
   "metadata": {},
   "source": [
    "## Reduce\n",
    "\n",
    "Available for use from functools. Reduce, performs a computation on a list and returns the final result."
   ]
  },
  {
   "cell_type": "code",
   "execution_count": 12,
   "metadata": {
    "collapsed": false
   },
   "outputs": [
    {
     "name": "stdout",
     "output_type": "stream",
     "text": [
      "[0, 1, 2, 3, 4, 5, 6, 7, 8, 9]\n"
     ]
    }
   ],
   "source": [
    "import functools\n",
    "\n",
    "# Reduce, get the largest list from a list of lists\n",
    "sample = [[1,2,3,4], [1,2,3], [i for i in range(5)], [i for i in range(10)]]\n",
    "\n",
    "func = lambda x, y: x if len(x) > len(y) else y\n",
    "\n",
    "result = functools.reduce(func, sample)\n",
    "assert(result == [i for i in range(10)])\n",
    "print(result)\n"
   ]
  },
  {
   "cell_type": "code",
   "execution_count": null,
   "metadata": {
    "collapsed": true
   },
   "outputs": [],
   "source": []
  }
 ],
 "metadata": {
  "kernelspec": {
   "display_name": "Python 3",
   "language": "python",
   "name": "python3"
  },
  "language_info": {
   "codemirror_mode": {
    "name": "ipython",
    "version": 3
   },
   "file_extension": ".py",
   "mimetype": "text/x-python",
   "name": "python",
   "nbconvert_exporter": "python",
   "pygments_lexer": "ipython3",
   "version": "3.4.4"
  }
 },
 "nbformat": 4,
 "nbformat_minor": 0
}
