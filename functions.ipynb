{
 "cells": [
  {
   "cell_type": "markdown",
   "metadata": {},
   "source": [
    "# Functional Functions for a Functional Program \n",
    "\n",
    "## Map \n",
    "\n",
    "Map is a built-in Python function that allows for mapping a particular algorithm or function to every item of \n",
    "any iterable and thus returns the applied results in the form of a list collection."
   ]
  },
  {
   "cell_type": "code",
   "execution_count": null,
   "metadata": {
    "collapsed": true
   },
   "outputs": [],
   "source": [
    "func = lambda x: str('x is {} and x2 becomes {}').format(x, x*2)\n",
    "\n",
    "result = map(func, [1,2,3,4,5])\n",
    "\n",
    "print([i for i in result]) "
   ]
  }
 ],
 "metadata": {
  "kernelspec": {
   "display_name": "Python 3",
   "language": "python",
   "name": "python3"
  },
  "language_info": {
   "codemirror_mode": {
    "name": "ipython",
    "version": 3
   },
   "file_extension": ".py",
   "mimetype": "text/x-python",
   "name": "python",
   "nbconvert_exporter": "python",
   "pygments_lexer": "ipython3",
   "version": "3.4.4"
  }
 },
 "nbformat": 4,
 "nbformat_minor": 0
}
