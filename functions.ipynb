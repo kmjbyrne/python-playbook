
# Functional Functions for a Functional Program 

## Map 
Map is a built-in Python function that allows for mapping a particular algorithm or function to every 
item of any iterable and thus returns the applied results in the form of a list collection.
